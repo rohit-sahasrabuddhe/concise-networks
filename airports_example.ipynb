{
 "cells": [
  {
   "cell_type": "code",
   "execution_count": 1,
   "metadata": {},
   "outputs": [],
   "source": [
    "from tools import *\n",
    "import numpy as np, pandas as pd, networkx as nx\n",
    "import matplotlib.pyplot as plt"
   ]
  },
  {
   "cell_type": "markdown",
   "metadata": {},
   "source": [
    "In this example, we will construct a concise model of transit flows through airports in the United States."
   ]
  },
  {
   "cell_type": "code",
   "execution_count": 2,
   "metadata": {},
   "outputs": [],
   "source": [
    "# The raw data has been pre-processed to remove return trigrams of the form i -> j -> i. \n",
    "# data.txt contains trigram counts.\n",
    "\n",
    "data = pd.read_csv('airport_trigrams.txt', sep=' ', header=None).to_numpy().tolist()"
   ]
  },
  {
   "cell_type": "code",
   "execution_count": 3,
   "metadata": {},
   "outputs": [
    {
     "data": {
      "text/plain": [
       "[['CHS', 'FLL', 'ORD', 4.0], ['CHS', 'MCO', 'ATL', 1.0]]"
      ]
     },
     "execution_count": 3,
     "metadata": {},
     "output_type": "execute_result"
    }
   ],
   "source": [
    "# For example\n",
    "\n",
    "data[:2]"
   ]
  },
  {
   "cell_type": "code",
   "execution_count": 4,
   "metadata": {},
   "outputs": [],
   "source": [
    "# The Network.from_paths constructor takes a list of paths. Each path is a list of physical nodes visited.\n",
    "# Optionally, the last element of every path is the number of times the path is observed. This is indicated with the flag_n_paths parameter.\n",
    "\n",
    "network = Network.from_paths(data, flag_n_paths=True)"
   ]
  },
  {
   "cell_type": "code",
   "execution_count": 5,
   "metadata": {},
   "outputs": [
    {
     "data": {
      "text/plain": [
       "j\n",
       "ATL    529581.0\n",
       "DFW    369169.0\n",
       "DEN    345731.0\n",
       "CLT    343534.0\n",
       "ORD    235590.0\n",
       "PHX    159261.0\n",
       "LAS    145290.0\n",
       "SEA    140914.0\n",
       "IAH    116158.0\n",
       "MSP     98626.0\n",
       "Name: num, dtype: float64"
      ]
     },
     "execution_count": 5,
     "metadata": {},
     "output_type": "execute_result"
    }
   ],
   "source": [
    "# We identify the 10 largest transit hubs by counting the number of trigrams through each airport.\n",
    "# The Network object stores the trigrams internally as a pandas DataFrame.\n",
    "\n",
    "srs_top10 = network.df_trigrams.groupby('j')['num'].sum().sort_values(ascending=False).head(10)\n",
    "srs_top10"
   ]
  },
  {
   "cell_type": "code",
   "execution_count": 6,
   "metadata": {},
   "outputs": [],
   "source": [
    "nodes_to_process = srs_top10.index.tolist()"
   ]
  },
  {
   "cell_type": "code",
   "execution_count": 7,
   "metadata": {},
   "outputs": [],
   "source": [
    "network.process_nodes(\n",
    "    nodes_to_process=nodes_to_process,    # select which physical nodes to create states for, default 'all'\n",
    "    flag_parallelise=True,                # parallelise with joblib, default False\n",
    "    mu = None,                            # the strength of the prior. If None, it is estimated with leave-one-out-crossvalidation\n",
    "    all_trigram_nodes=True,               # regularise all the physical nodes with trigrams through them even if not creating states. This alters their first-order model.\n",
    "    overlap_threshold=0.7,                # threshold for flow overlap\n",
    "    max_rank=10,                          # maximum rank to create state nodes until\n",
    "    n_candidates=50,                      # number of candidate solutions for each rank\n",
    "    initialise='kmeans'                   # initialising Convex-NMF\n",
    ")"
   ]
  },
  {
   "cell_type": "code",
   "execution_count": 8,
   "metadata": {},
   "outputs": [
    {
     "data": {
      "text/plain": [
       "{'ATL': 2,\n",
       " 'DFW': 2,\n",
       " 'DEN': 2,\n",
       " 'CLT': 2,\n",
       " 'ORD': 2,\n",
       " 'PHX': 4,\n",
       " 'LAS': 5,\n",
       " 'SEA': 2,\n",
       " 'IAH': 2,\n",
       " 'MSP': 3}"
      ]
     },
     "execution_count": 8,
     "metadata": {},
     "output_type": "execute_result"
    }
   ],
   "source": [
    "# The number of state nodes of each airport\n",
    "\n",
    "{n: network.dict_physical_nodes[n].optimal_rank for n in nodes_to_process}"
   ]
  },
  {
   "cell_type": "code",
   "execution_count": 9,
   "metadata": {},
   "outputs": [],
   "source": [
    "# Optionally, trim the neighbourhoods of the state nodes.\n",
    "\n",
    "for node_idx in nodes_to_process:\n",
    "    network.dict_physical_nodes[node_idx].trim(multiplier_ratio=0.05)"
   ]
  },
  {
   "cell_type": "code",
   "execution_count": 10,
   "metadata": {},
   "outputs": [],
   "source": [
    "# Put the network together.\n",
    "\n",
    "network.stitch()"
   ]
  },
  {
   "cell_type": "code",
   "execution_count": 11,
   "metadata": {},
   "outputs": [],
   "source": [
    "# Make a NetworkX DiGraph\n",
    "\n",
    "G = nx.DiGraph()\n",
    "G.add_nodes_from(list(network.dict_state_nodes.keys()))\n",
    "G.add_weighted_edges_from(\n",
    "    [(u,v,w) for u, d in network.edges.items() for v,w in d.items()]\n",
    ")"
   ]
  },
  {
   "cell_type": "code",
   "execution_count": 12,
   "metadata": {},
   "outputs": [
    {
     "data": {
      "text/plain": [
       "(451, 13746)"
      ]
     },
     "execution_count": 12,
     "metadata": {},
     "output_type": "execute_result"
    }
   ],
   "source": [
    "len(G.nodes), len(G.edges)"
   ]
  }
 ],
 "metadata": {
  "kernelspec": {
   "display_name": "base",
   "language": "python",
   "name": "python3"
  },
  "language_info": {
   "codemirror_mode": {
    "name": "ipython",
    "version": 3
   },
   "file_extension": ".py",
   "mimetype": "text/x-python",
   "name": "python",
   "nbconvert_exporter": "python",
   "pygments_lexer": "ipython3",
   "version": "3.9.12"
  }
 },
 "nbformat": 4,
 "nbformat_minor": 2
}
